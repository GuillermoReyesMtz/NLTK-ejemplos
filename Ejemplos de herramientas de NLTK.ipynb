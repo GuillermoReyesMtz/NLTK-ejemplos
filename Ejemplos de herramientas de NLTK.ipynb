{
 "cells": [
  {
   "cell_type": "markdown",
   "id": "312f6a56",
   "metadata": {},
   "source": [
    "# Segunda tarea de NLP"
   ]
  },
  {
   "cell_type": "markdown",
   "id": "8b515638",
   "metadata": {},
   "source": [
    "## Empleando NLTK vamos a presentar dos funcionalidades que ofrece la herramienta para el procesamiento del lenguaje natural."
   ]
  },
  {
   "cell_type": "markdown",
   "id": "f83dcd34",
   "metadata": {},
   "source": [
    "### Conteo de frecuencias de palabras dentro de un texto."
   ]
  },
  {
   "cell_type": "code",
   "execution_count": 3,
   "id": "48488292",
   "metadata": {},
   "outputs": [
    {
     "name": "stdout",
     "output_type": "stream",
     "text": [
      "Collecting nltkNote: you may need to restart the kernel to use updated packages.\n",
      "\n",
      "  Using cached nltk-3.8.1-py3-none-any.whl (1.5 MB)\n",
      "Collecting click\n",
      "  Using cached click-8.1.3-py3-none-any.whl (96 kB)\n",
      "Collecting regex>=2021.8.3\n",
      "  Downloading regex-2022.10.31-cp310-cp310-win_amd64.whl (267 kB)\n",
      "Collecting joblib\n",
      "  Using cached joblib-1.2.0-py3-none-any.whl (297 kB)\n",
      "Collecting tqdm\n",
      "  Using cached tqdm-4.64.1-py2.py3-none-any.whl (78 kB)\n",
      "Requirement already satisfied: colorama in c:\\users\\memo_\\appdata\\local\\programs\\python\\python310\\lib\\site-packages (from click->nltk) (0.4.4)\n",
      "Installing collected packages: tqdm, regex, joblib, click, nltk\n",
      "Successfully installed click-8.1.3 joblib-1.2.0 nltk-3.8.1 regex-2022.10.31 tqdm-4.64.1\n"
     ]
    },
    {
     "name": "stderr",
     "output_type": "stream",
     "text": [
      "WARNING: You are using pip version 21.2.4; however, version 22.3.1 is available.\n",
      "You should consider upgrading via the 'C:\\Users\\memo_\\AppData\\Local\\Programs\\Python\\Python310\\python.exe -m pip install --upgrade pip' command.\n"
     ]
    }
   ],
   "source": [
    "pip install nltk"
   ]
  },
  {
   "cell_type": "code",
   "execution_count": 4,
   "id": "2c4469a4",
   "metadata": {},
   "outputs": [],
   "source": [
    "import nltk"
   ]
  },
  {
   "cell_type": "code",
   "execution_count": 5,
   "id": "e4678a6d",
   "metadata": {},
   "outputs": [],
   "source": [
    "import matplotlib.pyplot as plt"
   ]
  },
  {
   "cell_type": "code",
   "execution_count": 6,
   "id": "bdb55501",
   "metadata": {},
   "outputs": [],
   "source": [
    "from nltk.probability import FreqDist"
   ]
  },
  {
   "cell_type": "code",
   "execution_count": 7,
   "id": "7e9b8561",
   "metadata": {},
   "outputs": [],
   "source": [
    "sentence = \"The siege of Thessalonica (1422–1430) was a successful campaign to capture the city by the Ottoman Empire under Sultan Murad II. It remained in Ottoman hands until 1912, when it became part of the Kingdom of Greece. Thessalonica had already been under Ottoman control from 1387 to 1403 before returning to Byzantine rule in the aftermath of the Battle of Ankara. In 1422 Murad attacked the city. Its ruler, Andronikos Palaiologos, was unable to provide manpower or resources for the city's defense, and handed it over to the Republic of Venice in September 1423. The Ottomans blockaded the city and attacked it by land. The blockade reduced the inhabitants to near starvation, and many fled the city. In 1429 Venice declared war on the Ottomans, and on 29 March 1430 Murad's forces took the city. The siege and the subsequent sack reduced the city to a shadow of its former self, from perhaps as many as 40,000 inhabitants to around 2,000.\""
   ]
  },
  {
   "cell_type": "code",
   "execution_count": 8,
   "id": "f528b641",
   "metadata": {},
   "outputs": [],
   "source": [
    "tokens = nltk.word_tokenize(sentence)"
   ]
  },
  {
   "cell_type": "code",
   "execution_count": 9,
   "id": "387874cb",
   "metadata": {},
   "outputs": [],
   "source": [
    "frq = FreqDist(tokens)"
   ]
  },
  {
   "cell_type": "code",
   "execution_count": 11,
   "id": "74b51697",
   "metadata": {},
   "outputs": [
    {
     "data": {
      "image/png": "[encoded data removed]",
      "text/plain": [
       "<Figure size 432x288 with 1 Axes>"
      ]
     },
     "metadata": {
      "needs_background": "light"
     },
     "output_type": "display_data"
    },
    {
     "data": {
      "text/plain": [
       "<AxesSubplot:xlabel='Samples', ylabel='Counts'>"
      ]
     },
     "execution_count": 11,
     "metadata": {},
     "output_type": "execute_result"
    }
   ],
   "source": [
    "frq.plot(30, cumulative = False)"
   ]
  },
  {
   "cell_type": "markdown",
   "id": "da0ff795",
   "metadata": {},
   "source": [
    "### El siguiente ejemplo es sobre POS tagging (Part-of-Speech tagging) o lo que en español sería \"Etiquetado de las partes de un discurso. Esta herramienta permite identificar que función gramatical y lingüística desempeña cada uno de los tokens en el texto."
   ]
  },
  {
   "cell_type": "code",
   "execution_count": 12,
   "id": "a758776e",
   "metadata": {},
   "outputs": [
    {
     "data": {
      "text/plain": [
       "[('The', 'DT'),\n",
       " ('siege', 'NN'),\n",
       " ('of', 'IN'),\n",
       " ('Thessalonica', 'NNP'),\n",
       " ('(', '('),\n",
       " ('1422–1430', 'CD'),\n",
       " (')', ')'),\n",
       " ('was', 'VBD'),\n",
       " ('a', 'DT'),\n",
       " ('successful', 'JJ'),\n",
       " ('campaign', 'NN'),\n",
       " ('to', 'TO'),\n",
       " ('capture', 'VB'),\n",
       " ('the', 'DT'),\n",
       " ('city', 'NN'),\n",
       " ('by', 'IN'),\n",
       " ('the', 'DT'),\n",
       " ('Ottoman', 'NNP'),\n",
       " ('Empire', 'NNP'),\n",
       " ('under', 'IN'),\n",
       " ('Sultan', 'NNP'),\n",
       " ('Murad', 'NNP'),\n",
       " ('II', 'NNP'),\n",
       " ('.', '.'),\n",
       " ('It', 'PRP'),\n",
       " ('remained', 'VBD'),\n",
       " ('in', 'IN'),\n",
       " ('Ottoman', 'NNP'),\n",
       " ('hands', 'VBZ'),\n",
       " ('until', 'IN'),\n",
       " ('1912', 'CD'),\n",
       " (',', ','),\n",
       " ('when', 'WRB'),\n",
       " ('it', 'PRP'),\n",
       " ('became', 'VBD'),\n",
       " ('part', 'NN'),\n",
       " ('of', 'IN'),\n",
       " ('the', 'DT'),\n",
       " ('Kingdom', 'NNP'),\n",
       " ('of', 'IN'),\n",
       " ('Greece', 'NNP'),\n",
       " ('.', '.'),\n",
       " ('Thessalonica', 'NNP'),\n",
       " ('had', 'VBD'),\n",
       " ('already', 'RB'),\n",
       " ('been', 'VBN'),\n",
       " ('under', 'IN'),\n",
       " ('Ottoman', 'NNP'),\n",
       " ('control', 'NN'),\n",
       " ('from', 'IN'),\n",
       " ('1387', 'CD'),\n",
       " ('to', 'TO'),\n",
       " ('1403', 'CD'),\n",
       " ('before', 'IN'),\n",
       " ('returning', 'VBG'),\n",
       " ('to', 'TO'),\n",
       " ('Byzantine', 'NNP'),\n",
       " ('rule', 'NN'),\n",
       " ('in', 'IN'),\n",
       " ('the', 'DT'),\n",
       " ('aftermath', 'NN'),\n",
       " ('of', 'IN'),\n",
       " ('the', 'DT'),\n",
       " ('Battle', 'NNP'),\n",
       " ('of', 'IN'),\n",
       " ('Ankara', 'NNP'),\n",
       " ('.', '.'),\n",
       " ('In', 'IN'),\n",
       " ('1422', 'CD'),\n",
       " ('Murad', 'NNP'),\n",
       " ('attacked', 'VBD'),\n",
       " ('the', 'DT'),\n",
       " ('city', 'NN'),\n",
       " ('.', '.'),\n",
       " ('Its', 'PRP$'),\n",
       " ('ruler', 'NN'),\n",
       " (',', ','),\n",
       " ('Andronikos', 'NNP'),\n",
       " ('Palaiologos', 'NNP'),\n",
       " (',', ','),\n",
       " ('was', 'VBD'),\n",
       " ('unable', 'JJ'),\n",
       " ('to', 'TO'),\n",
       " ('provide', 'VB'),\n",
       " ('manpower', 'JJR'),\n",
       " ('or', 'CC'),\n",
       " ('resources', 'NNS'),\n",
       " ('for', 'IN'),\n",
       " ('the', 'DT'),\n",
       " ('city', 'NN'),\n",
       " (\"'s\", 'POS'),\n",
       " ('defense', 'NN'),\n",
       " (',', ','),\n",
       " ('and', 'CC'),\n",
       " ('handed', 'VBD'),\n",
       " ('it', 'PRP'),\n",
       " ('over', 'IN'),\n",
       " ('to', 'TO'),\n",
       " ('the', 'DT'),\n",
       " ('Republic', 'NNP'),\n",
       " ('of', 'IN'),\n",
       " ('Venice', 'NNP'),\n",
       " ('in', 'IN'),\n",
       " ('September', 'NNP'),\n",
       " ('1423', 'CD'),\n",
       " ('.', '.'),\n",
       " ('The', 'DT'),\n",
       " ('Ottomans', 'NNPS'),\n",
       " ('blockaded', 'VBD'),\n",
       " ('the', 'DT'),\n",
       " ('city', 'NN'),\n",
       " ('and', 'CC'),\n",
       " ('attacked', 'VBD'),\n",
       " ('it', 'PRP'),\n",
       " ('by', 'IN'),\n",
       " ('land', 'NN'),\n",
       " ('.', '.'),\n",
       " ('The', 'DT'),\n",
       " ('blockade', 'NN'),\n",
       " ('reduced', 'VBD'),\n",
       " ('the', 'DT'),\n",
       " ('inhabitants', 'NNS'),\n",
       " ('to', 'TO'),\n",
       " ('near', 'IN'),\n",
       " ('starvation', 'NN'),\n",
       " (',', ','),\n",
       " ('and', 'CC'),\n",
       " ('many', 'JJ'),\n",
       " ('fled', 'VBD'),\n",
       " ('the', 'DT'),\n",
       " ('city', 'NN'),\n",
       " ('.', '.'),\n",
       " ('In', 'IN'),\n",
       " ('1429', 'CD'),\n",
       " ('Venice', 'NNP'),\n",
       " ('declared', 'VBD'),\n",
       " ('war', 'NN'),\n",
       " ('on', 'IN'),\n",
       " ('the', 'DT'),\n",
       " ('Ottomans', 'NNPS'),\n",
       " (',', ','),\n",
       " ('and', 'CC'),\n",
       " ('on', 'IN'),\n",
       " ('29', 'CD'),\n",
       " ('March', 'NNP'),\n",
       " ('1430', 'CD'),\n",
       " ('Murad', 'NNP'),\n",
       " (\"'s\", 'POS'),\n",
       " ('forces', 'NNS'),\n",
       " ('took', 'VBD'),\n",
       " ('the', 'DT'),\n",
       " ('city', 'NN'),\n",
       " ('.', '.'),\n",
       " ('The', 'DT'),\n",
       " ('siege', 'NN'),\n",
       " ('and', 'CC'),\n",
       " ('the', 'DT'),\n",
       " ('subsequent', 'JJ'),\n",
       " ('sack', 'NN'),\n",
       " ('reduced', 'VBD'),\n",
       " ('the', 'DT'),\n",
       " ('city', 'NN'),\n",
       " ('to', 'TO'),\n",
       " ('a', 'DT'),\n",
       " ('shadow', 'NN'),\n",
       " ('of', 'IN'),\n",
       " ('its', 'PRP$'),\n",
       " ('former', 'JJ'),\n",
       " ('self', 'NN'),\n",
       " (',', ','),\n",
       " ('from', 'IN'),\n",
       " ('perhaps', 'RB'),\n",
       " ('as', 'RB'),\n",
       " ('many', 'JJ'),\n",
       " ('as', 'IN'),\n",
       " ('40,000', 'CD'),\n",
       " ('inhabitants', 'NNS'),\n",
       " ('to', 'TO'),\n",
       " ('around', 'IN'),\n",
       " ('2,000', 'CD'),\n",
       " ('.', '.')]"
      ]
     },
     "execution_count": 12,
     "metadata": {},
     "output_type": "execute_result"
    }
   ],
   "source": [
    "nltk.pos_tag(tokens)"
   ]
  },
  {
   "cell_type": "code",
   "execution_count": null,
   "id": "fa536c12",
   "metadata": {},
   "outputs": [],
   "source": []
  }
 ],
 "metadata": {
  "kernelspec": {
   "display_name": "Python 3 (ipykernel)",
   "language": "python",
   "name": "python3"
  },
  "language_info": {
   "codemirror_mode": {
    "name": "ipython",
    "version": 3
   },
   "file_extension": ".py",
   "mimetype": "text/x-python",
   "name": "python",
   "nbconvert_exporter": "python",
   "pygments_lexer": "ipython3",
   "version": "3.10.2"
  }
 },
 "nbformat": 4,
 "nbformat_minor": 5
}
